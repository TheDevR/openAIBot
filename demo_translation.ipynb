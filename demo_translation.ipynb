{
 "cells": [
  {
   "cell_type": "code",
   "execution_count": null,
   "metadata": {},
   "outputs": [
    {
     "name": "stdout",
     "output_type": "stream",
     "text": [
      "\"I woke up early today to catch the sunrise.\" 我今天早起來看日出。\n",
      "\"Breakfast was quick and easy, just some cereal and milk.\" 早餐很快速又簡單，只是一些麥片和牛奶。\n",
      "\"The commute to work was surprisingly smooth, no traffic jams.\" 上班的通勤 surprisingly 順利，沒有交通阻塞。\n",
      "\"Lunch with colleagues at the new restaurant was delightful.\" 與同事在新餐廳吃午餐非常愉快。\n",
      "\"Finished the project well before the deadline, feeling productive.\" 在截止日期之前成功完成了項目，感覺很有生產力。\n",
      "\"Decided to take a short walk during the break, it was refreshing.\" 決定在休息時間散步一下，感覺很清新。\n",
      "\"The weather today was perfect, not too hot and not too cold.\" 今天的天氣非常完美，不會太熱也不會太冷。\n",
      "\"Had a productive meeting with the team, we're on the right track.\" 和團隊有一個富有成效的會議，我們正在走正確的方向。\n",
      "\"Dinner was a simple homemade meal, but very satisfying.\" 晚餐是一頓簡單的家常菜，但非常令人滿足。\n",
      "\"Ended the day with some light reading before bed.\" 在睡前進行輕鬆的閱讀，結束了一天。\n"
     ]
    }
   ],
   "source": [
    "from openaiCall import openaiBot\n",
    "\n",
    "api_key = ''\n",
    "\n",
    "test_data = '\"I woke up early today to catch the sunrise.\"\\n\"Breakfast was quick and easy, just some cereal and milk.\"\\n\"The commute to work was surprisingly smooth, no traffic jams.\"\\n\"Lunch with colleagues at the new restaurant was delightful.\"\\n\"Finished the project well before the deadline, feeling productive.\"\\n\"Decided to take a short walk during the break, it was refreshing.\"\\n\"The weather today was perfect, not too hot and not too cold.\"\\n\"Had a productive meeting with the team, we\\'re on the right track.\"\\n\"Dinner was a simple homemade meal, but very satisfying.\"\\n\"Ended the day with some light reading before bed.\"' #假設這是讀進來的文字檔 每句話用換行分開\n",
    "\n",
    "list_sentences = test_data.split('\\n') #變list\n",
    "\n",
    "translator = openaiBot(api_key,job='given a series of english sentences enclosed by quote, translate into traditional chinese in a natrual way without loosing the intent, put them in an array named result and return in json',jsonMode=True) #創造agent,指定他的功能並使它回傳json物件\n",
    "\n",
    "list_product = []\n",
    "for i in range(0,len(list_sentences),3): #批次翻譯 互叫次數少一點可以省錢\n",
    "    current_input = ' '.join(list_sentences[i:i+3])\n",
    "    list_result = translator.chat(current_input,temperature=0.7)['result']\n",
    "    list_product.extend(list_result)\n",
    "\n",
    "for i in range(len(list_sentences)):\n",
    "    print(list_sentences[i],list_product[i])\n"
   ]
  }
 ],
 "metadata": {
  "kernelspec": {
   "display_name": "Python 3",
   "language": "python",
   "name": "python3"
  },
  "language_info": {
   "codemirror_mode": {
    "name": "ipython",
    "version": 3
   },
   "file_extension": ".py",
   "mimetype": "text/x-python",
   "name": "python",
   "nbconvert_exporter": "python",
   "pygments_lexer": "ipython3",
   "version": "3.11.6"
  }
 },
 "nbformat": 4,
 "nbformat_minor": 2
}
